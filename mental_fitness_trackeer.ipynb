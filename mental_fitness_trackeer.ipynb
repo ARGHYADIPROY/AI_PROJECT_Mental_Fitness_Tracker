{
  "nbformat": 4,
  "nbformat_minor": 0,
  "metadata": {
    "colab": {
      "provenance": []
    },
    "kernelspec": {
      "name": "python3",
      "display_name": "Python 3"
    },
    "language_info": {
      "name": "python"
    }
  },
  "cells": [
    {
      "cell_type": "markdown",
      "source": [
        "# importing libraries"
      ],
      "metadata": {
        "id": "o1YYVVx3hDCy"
      }
    },
    {
      "cell_type": "code",
      "source": [
        "import numpy as np # linear algebra\n",
        "import pandas as pd # data processing, CSV file I/O (e.g. pd.read_csv)\n",
        "import os\n",
        "from google.colab import drive\n",
        "drive.mount('/content/drive')"
      ],
      "metadata": {
        "id": "Ty2xTNfBhJst"
      },
      "execution_count": null,
      "outputs": []
    },
    {
      "cell_type": "code",
      "source": [
        "import seaborn as sns\n",
        "import matplotlib.pyplot as plt\n",
        "import plotly.express as px\n",
        "import warnings\n",
        "warnings.filterwarnings('ignore')"
      ],
      "metadata": {
        "id": "qi7Mw91Bha23"
      },
      "execution_count": null,
      "outputs": []
    },
    {
      "cell_type": "markdown",
      "source": [
        "# reading data"
      ],
      "metadata": {
        "id": "PqNiaekBiuR0"
      }
    },
    {
      "cell_type": "code",
      "source": [
        "df1 = pd.read_csv('/content/drive/MyDrive/mental-and-substance-use-as-share-of-disease.csv')\n",
        "df2 =pd.read_csv('/content/drive/MyDrive/prevalence-by-mental-and-substance-use-disorder.csv')"
      ],
      "metadata": {
        "id": "dSJVxO33iTi9"
      },
      "execution_count": null,
      "outputs": []
    },
    {
      "cell_type": "code",
      "source": [
        "df1.head()"
      ],
      "metadata": {
        "id": "IS6jugjBiqi9"
      },
      "execution_count": null,
      "outputs": []
    },
    {
      "cell_type": "code",
      "source": [
        "df2.head()"
      ],
      "metadata": {
        "id": "evAChG63i5-V"
      },
      "execution_count": null,
      "outputs": []
    },
    {
      "cell_type": "markdown",
      "source": [
        "### merging two datasets"
      ],
      "metadata": {
        "id": "iggJvIhCjAi9"
      }
    },
    {
      "cell_type": "code",
      "source": [
        "data = pd.merge(df1, df2)\n",
        "data.head()"
      ],
      "metadata": {
        "id": "Dw-SwcC8jHkG"
      },
      "execution_count": null,
      "outputs": []
    },
    {
      "cell_type": "markdown",
      "source": [
        "# data cleaning"
      ],
      "metadata": {
        "id": "LwAfu11TjM8s"
      }
    },
    {
      "cell_type": "code",
      "source": [
        "data.isnull().sum()"
      ],
      "metadata": {
        "id": "UgTPagavjRyA"
      },
      "execution_count": null,
      "outputs": []
    },
    {
      "cell_type": "code",
      "source": [
        "data.drop('Code',axis=1,inplace=True)\n"
      ],
      "metadata": {
        "id": "MPQe5A0djWhY"
      },
      "execution_count": null,
      "outputs": []
    },
    {
      "cell_type": "code",
      "source": [
        "data.head()"
      ],
      "metadata": {
        "id": "93bx8LtMjcYn"
      },
      "execution_count": null,
      "outputs": []
    },
    {
      "cell_type": "code",
      "source": [
        "data.size,data.shape"
      ],
      "metadata": {
        "id": "1RhwKVjSjh_-"
      },
      "execution_count": null,
      "outputs": []
    },
    {
      "cell_type": "code",
      "source": [
        "data.set_axis(['Country','Year','Schizophrenia', 'Bipolar_disorder', 'Eating_disorder','Anxiety','drug_usage','depression','alcohol','mental_fitness'], axis='columns', inplace=True)"
      ],
      "metadata": {
        "id": "R4WRUnVhjmlG"
      },
      "execution_count": null,
      "outputs": []
    },
    {
      "cell_type": "code",
      "source": [
        "data.head()"
      ],
      "metadata": {
        "id": "GnBMSBkkjtFF"
      },
      "execution_count": null,
      "outputs": []
    },
    {
      "cell_type": "markdown",
      "source": [
        "# explaratory data analysis(EDA)"
      ],
      "metadata": {
        "id": "PqyJ-MD7jxg8"
      }
    },
    {
      "cell_type": "code",
      "source": [
        "plt.figure(figsize=(12,6))\n",
        "sns.heatmap(data.corr(),annot=True,cmap='Blues')\n",
        "plt.plot()"
      ],
      "metadata": {
        "id": "sWVrP635j_Qw"
      },
      "execution_count": null,
      "outputs": []
    },
    {
      "cell_type": "code",
      "source": [
        "sns.jointplot(data=data,x='Bipolar_disorder',y='mental_fitness',kind='reg')\n",
        "plt.show()"
      ],
      "metadata": {
        "id": "KyuLysBikbSX"
      },
      "execution_count": null,
      "outputs": []
    },
    {
      "cell_type": "code",
      "source": [
        "sns.jointplot(x='Schizophrenia',y='mental_fitness',data=data,kind='reg',color='m')\n",
        "plt.show()"
      ],
      "metadata": {
        "id": "Qj2P7z_kl1yr"
      },
      "execution_count": null,
      "outputs": []
    },
    {
      "cell_type": "code",
      "source": [
        "sns.pairplot(data,corner=True)\n",
        "plt.show()"
      ],
      "metadata": {
        "id": "FlEzVBQEmBM6"
      },
      "execution_count": null,
      "outputs": []
    },
    {
      "cell_type": "code",
      "source": [
        "mean = data['mental_fitness'].mean()\n",
        "mean"
      ],
      "metadata": {
        "id": "FPLFlWufmQgc"
      },
      "execution_count": null,
      "outputs": []
    },
    {
      "cell_type": "code",
      "source": [
        "fig = px.pie(data, values='mental_fitness', names='Year')\n",
        "fig.show()"
      ],
      "metadata": {
        "id": "If6XG0K5mYHo"
      },
      "execution_count": null,
      "outputs": []
    },
    {
      "cell_type": "markdown",
      "source": [
        "# year wise variation in mental fitness in different countries"
      ],
      "metadata": {
        "id": "klMGF7h9memp"
      }
    },
    {
      "cell_type": "code",
      "source": [
        "fig = px.line(data, x=\"Year\", y=\"mental_fitness\", color='Country',markers=True,color_discrete_sequence=['red','blue'],template='plotly_dark')\n",
        "fig.show()"
      ],
      "metadata": {
        "id": "hpfp3ynMmq6c"
      },
      "execution_count": null,
      "outputs": []
    },
    {
      "cell_type": "code",
      "source": [
        "df = data.copy()"
      ],
      "metadata": {
        "id": "s02swrOFmz0p"
      },
      "execution_count": null,
      "outputs": []
    },
    {
      "cell_type": "code",
      "source": [
        "df.head()"
      ],
      "metadata": {
        "id": "VlQ7u0RBm7_H"
      },
      "execution_count": null,
      "outputs": []
    },
    {
      "cell_type": "code",
      "source": [
        "df.info()"
      ],
      "metadata": {
        "id": "uIcGeFgRnLZi"
      },
      "execution_count": null,
      "outputs": []
    },
    {
      "cell_type": "code",
      "source": [
        "from sklearn.preprocessing import LabelEncoder\n",
        "l=LabelEncoder()\n",
        "for i in df.columns:\n",
        "    if df[i].dtype == 'object':\n",
        "        df[i]=l.fit_transform(df[i])"
      ],
      "metadata": {
        "id": "XgX0GRjRnP6R"
      },
      "execution_count": null,
      "outputs": []
    },
    {
      "cell_type": "code",
      "source": [
        "X = df.drop('mental_fitness',axis=1)\n",
        "y = df['mental_fitness']\n",
        "\n",
        "from sklearn.model_selection import train_test_split\n",
        "xtrain, xtest, ytrain, ytest = train_test_split(X, y, test_size=0.2, random_state=2)"
      ],
      "metadata": {
        "id": "MHFLJvSmnbsf"
      },
      "execution_count": null,
      "outputs": []
    },
    {
      "cell_type": "code",
      "source": [
        "X = df.drop('mental_fitness',axis=1)\n",
        "y = df['mental_fitness']\n",
        "\n",
        "from sklearn.model_selection import train_test_split\n",
        "xtrain, xtest, ytrain, ytest = train_test_split(X, y, test_size=0.2, random_state=2)"
      ],
      "metadata": {
        "id": "3YyiistMngnI"
      },
      "execution_count": null,
      "outputs": []
    },
    {
      "cell_type": "markdown",
      "source": [
        "# applying classification algorithm"
      ],
      "metadata": {
        "id": "iORQjuz6nnMP"
      }
    },
    {
      "cell_type": "markdown",
      "source": [
        "# linear regression"
      ],
      "metadata": {
        "id": "RpTBSoo6nvhS"
      }
    },
    {
      "cell_type": "code",
      "source": [
        "from sklearn.linear_model import LinearRegression\n",
        "from sklearn.metrics import mean_squared_error, r2_score\n",
        "lr = LinearRegression()\n",
        "lr.fit(xtrain,ytrain)\n",
        "\n",
        "# model evaluation for training set\n",
        "ytrain_pred = lr.predict(xtrain)\n",
        "mse = mean_squared_error(ytrain, ytrain_pred)\n",
        "rmse = (np.sqrt(mean_squared_error(ytrain, ytrain_pred)))\n",
        "r2 = r2_score(ytrain, ytrain_pred)\n",
        "\n",
        "print(\"The model performance for training set\")\n",
        "print(\"--------------------------------------\")\n",
        "print('MSE is {}'.format(mse))\n",
        "print('RMSE is {}'.format(rmse))\n",
        "print('R2 score is {}'.format(r2))\n",
        "print(\"\\n\")\n",
        "\n",
        "# model evaluation for testing set\n",
        "ytest_pred = lr.predict(xtest)\n",
        "mse = mean_squared_error(ytest, ytest_pred)\n",
        "rmse = (np.sqrt(mean_squared_error(ytest, ytest_pred)))\n",
        "r2 = r2_score(ytest, ytest_pred)\n",
        "\n",
        "print(\"The model performance for testing set\")\n",
        "print(\"--------------------------------------\")\n",
        "print('MSE is {}'.format(mse))\n",
        "print('RMSE is {}'.format(rmse))\n",
        "print('R2 score is {}'.format(r2))"
      ],
      "metadata": {
        "id": "qraG-6MVnuBP"
      },
      "execution_count": null,
      "outputs": []
    },
    {
      "cell_type": "markdown",
      "source": [
        "# random forest regression"
      ],
      "metadata": {
        "id": "Gipv6tK0oFsO"
      }
    },
    {
      "cell_type": "code",
      "source": [
        "from sklearn.ensemble import RandomForestRegressor\n",
        "rf = RandomForestRegressor()\n",
        "rf.fit(xtrain, ytrain)\n",
        "\n",
        "# model evaluation for training set\n",
        "ytrain_pred = rf.predict(xtrain)\n",
        "mse = mean_squared_error(ytrain, ytrain_pred)\n",
        "rmse = (np.sqrt(mean_squared_error(ytrain, ytrain_pred)))\n",
        "r2 = r2_score(ytrain, ytrain_pred)\n",
        "\n",
        "print(\"The model performance for training set\")\n",
        "print(\"--------------------------------------\")\n",
        "print('MSE is {}'.format(mse))\n",
        "print('RMSE is {}'.format(rmse))\n",
        "print('R2 score is {}'.format(r2))\n",
        "print(\"\\n\")\n",
        "\n",
        "# model evaluation for testing set\n",
        "ytest_pred = rf.predict(xtest)\n",
        "mse = mean_squared_error(ytest, ytest_pred)\n",
        "rmse = (np.sqrt(mean_squared_error(ytest, ytest_pred)))\n",
        "r2 = r2_score(ytest, ytest_pred)\n",
        "\n",
        "print(\"The model performance for testing set\")\n",
        "print(\"--------------------------------------\")\n",
        "print('MSE is {}'.format(mse))\n",
        "print('RMSE is {}'.format(rmse))\n",
        "print('R2 score is {}'.format(r2))"
      ],
      "metadata": {
        "id": "WPn_3V42oK_8"
      },
      "execution_count": null,
      "outputs": []
    },
    {
      "cell_type": "markdown",
      "source": [
        "# decision tree regression"
      ],
      "metadata": {
        "id": "q3cMqpxqoS5I"
      }
    },
    {
      "cell_type": "code",
      "source": [
        "from sklearn.tree import DecisionTreeRegressor\n",
        "dtr=DecisionTreeRegressor(random_state=0)\n",
        "dtr.fit(xtrain,ytrain)\n",
        "\n",
        "#predicting the value\n",
        "\n",
        "ytest_pred=dtr.predict(xtest)\n",
        "\n",
        "#evaluating the model\n",
        "\n",
        "from sklearn.metrics import r2_score,mean_squared_error\n",
        "print(\"Results for Decision Tree Regression:\\n1)Mean Square Error={}\\n2)R-Square Score={}\".format(mean_squared_error(ytest,ytest_pred),r2_score(ytest,ytest_pred)))"
      ],
      "metadata": {
        "id": "Q-BXMe_zo4hX"
      },
      "execution_count": null,
      "outputs": []
    },
    {
      "cell_type": "markdown",
      "source": [
        "# svm regression"
      ],
      "metadata": {
        "id": "b7EbQmO-pcer"
      }
    },
    {
      "cell_type": "code",
      "source": [
        "from sklearn.svm import SVR\n",
        "svr=SVR()\n",
        "svr.fit(xtrain,ytrain)\n",
        "\n",
        "#predicting the value\n",
        "\n",
        "ytest_pred=svr.predict(xtest)\n",
        "\n",
        "#evaluating the model\n",
        "\n",
        "from sklearn.metrics import r2_score,mean_squared_error\n",
        "print(\"Results for SVM Regression:\\n1)Mean Square Error={}\\n2)R-Square Score={}\".format(mean_squared_error(ytest,ytest_pred),r2_score(ytest,ytest_pred)))\n",
        "\n",
        "\n"
      ],
      "metadata": {
        "id": "3YaPkSpjpfvg"
      },
      "execution_count": null,
      "outputs": []
    },
    {
      "cell_type": "markdown",
      "source": [
        "# conclusion"
      ],
      "metadata": {
        "id": "ZfL9LwRJqCJ1"
      }
    },
    {
      "cell_type": "markdown",
      "source": [
        "Random Forest Regression works well on both train and test sets with r2 score of 0.99.\n",
        " As well as Decision Tree Regression also works well on both train and test set with r2 score of 0.98."
      ],
      "metadata": {
        "id": "9vboh66uqQ6P"
      }
    },
    {
      "cell_type": "code",
      "source": [
        "np.random.seed(range(0,100))\n",
        "print(\"Welcome to Mental Fitness Tracker!\\nFill the detail to check your mental fitness!\")\n",
        "country=l.fit_transform([input('Enter Your country Name:')])\n",
        "year=int(input(\"Enter the Year:\"))\n",
        "schi=(float(input(\"Enter your Schizophrenia rate in % (it not enter 0):\")))*100\n",
        "bipo_dis=(float(input(\"Enter your Bipolar disorder rate in % (it not enter 0):\")))*100\n",
        "eat_dis=(float(input(\"Enter your Eating disorder rate in % (it not enter 0):\")))*100\n",
        "anx=(float(input(\"Enter your Anxiety rate in % (it not enter 0):\")))*100\n",
        "drug_use=(float(input(\"Enter your Drug Usage rate in per year % (it not enter 0):\")))*100\n",
        "depr=(float(input(\"Enter your Depression rate in % (it not enter 0):\")))*100\n",
        "alch=(float(input(\"Enter your Alcohol Consuming rate per year in % (it not enter 0):\")))*100\n",
        "\n",
        "prediction=rf.predict([[country,year,schi,bipo_dis,eat_dis,anx,drug_use,depr,alch]])\n",
        "print(\"Your Mental Fitness is {}%\".format(prediction))\n",
        "print(\"Bye...!\")"
      ],
      "metadata": {
        "colab": {
          "base_uri": "https://localhost:8080/"
        },
        "id": "trgLnz6FrE_T",
        "outputId": "56901b7e-3b2e-482d-ce11-9226e6dabc37"
      },
      "execution_count": null,
      "outputs": [
        {
          "name": "stdout",
          "output_type": "stream",
          "text": [
            "Welcome to Mental Fitness Tracker!\n",
            "Fill the detail to check your mental fitness!\n",
            "Enter Your country Name:India\n"
          ]
        }
      ]
    }
  ]
}